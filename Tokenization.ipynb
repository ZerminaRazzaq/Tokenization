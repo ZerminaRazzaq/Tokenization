{
  "nbformat": 4,
  "nbformat_minor": 0,
  "metadata": {
    "colab": {
      "name": "Tokenization.ipynb",
      "provenance": []
    },
    "kernelspec": {
      "name": "python3",
      "display_name": "Python 3"
    }
  },
  "cells": [
    {
      "cell_type": "code",
      "metadata": {
        "id": "raoRMUU4-iev"
      },
      "source": [
        "from nltk.tokenize import TweetTokenizer\r\n",
        "tokenizer = TweetTokenizer()\r\n",
        "text = \"This is a cooool #dummysmiley: :-) :-P <3 and some arrows < > -> <--\"\r\n",
        "tokenizer.tokenize(text)\r\n",
        "\r\n",
        "# https://pypi.python.org/pypi/libarchive\r\n",
        "!apt-get -qq install -y libarchive-dev && pip install -U libarchive\r\n",
        "import libarchive\r\n",
        "import nltk\r\n",
        "from nltk.util import ngrams\r\n",
        "nltk.download('punkt')\r\n",
        "nltk.download('averaged_perceptron_tagger')\r\n",
        "from nltk import tokenize\r\n",
        "# from nltk import word_tokenizer\r\n",
        "\r\n",
        "text= \" I am enjoying my life at UET\"\r\n",
        "\r\n",
        "token=nltk.word_tokenize(text)\r\n",
        "unigram = ngrams(text.split(), n=1)\r\n",
        "list(unigram)\r\n",
        "bgs=nltk.bigrams(token)\r\n",
        "tri=nltk.trigrams(token)\r\n",
        "print(token)\r\n",
        "print(list(bgs))\r\n",
        "print(list(tri))\r\n",
        "print(nltk.pos_tag(token))\r\n",
        "\r\n",
        "import nltk\r\n",
        "nltk.download('punkt')\r\n",
        "\r\n",
        "text = \"The best performance can bring in sky high success.\"\r\n",
        "tokenizer = nltk.word_tokenize(text)  \t\r\n",
        "\r\n",
        "print(list(nltk.bigrams(tokenizer)))\r\n",
        "\r\n",
        "import nltk\r\n",
        "nltk.download('punkt')\r\n",
        "\r\n",
        "text = \"The best performance can bring in sky high success.\"\r\n",
        "tokenizer = nltk.word_tokenize(text)  \t\r\n",
        "\r\n",
        "print(list(nltk.trigrams(tokenizer)))"
      ],
      "execution_count": null,
      "outputs": []
    }
  ]
}